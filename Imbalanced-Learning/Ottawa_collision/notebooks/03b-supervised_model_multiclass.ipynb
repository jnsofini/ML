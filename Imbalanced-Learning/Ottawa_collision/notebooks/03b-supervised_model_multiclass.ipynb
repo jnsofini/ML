{
 "cells": [
  {
   "cell_type": "markdown",
   "metadata": {},
   "source": [
    "## Imports"
   ]
  },
  {
   "cell_type": "code",
   "execution_count": 62,
   "metadata": {},
   "outputs": [
    {
     "name": "stdout",
     "output_type": "stream",
     "text": [
      "The autoreload extension is already loaded. To reload it, use:\n",
      "  %reload_ext autoreload\n"
     ]
    }
   ],
   "source": [
    "%load_ext autoreload\n",
    "%autoreload 2\n",
    "\n",
    "# Ignore deprecated warning\n",
    "import warnings\n",
    "warnings.filterwarnings(\"ignore\")\n",
    "\n",
    "# Pandas and numpy for data manipulation\n",
    "%matplotlib inline\n",
    "import pandas as pd\n",
    "import numpy as np\n",
    "\n",
    "# Matplotlib  for data visualization\n",
    "import matplotlib.pyplot as plt\n",
    "import seaborn as sns\n",
    "\n",
    "# Set font scale and style\n",
    "sns.set(font_scale = 1.5)\n",
    "sns.set_style('ticks')\n",
    "sns.set()\n",
    "\n",
    "# Dimensionality reduction\n",
    "from sklearn.decomposition import PCA\n",
    "from sklearn.discriminant_analysis import LinearDiscriminantAnalysis as LDA\n",
    "\n",
    "# Pickle\n",
    "import joblib\n",
    "\n",
    "# Data pre-processing\n",
    "from sklearn_pandas import DataFrameMapper\n",
    "from sklearn.preprocessing import StandardScaler, LabelBinarizer\n",
    "\n",
    "# Import under sampling module from imbalanced learn\n",
    "from imblearn.under_sampling import RandomUnderSampler\n",
    "# Import SMOTE from imbalanced learn\n",
    "from imblearn.over_sampling import SMOTE\n",
    "\n",
    "# Machine learning models\n",
    "import xgboost as xgb\n",
    "from xgboost.sklearn import XGBClassifier\n",
    "from sklearn.ensemble import RandomForestClassifier\n",
    "from sklearn.linear_model import LogisticRegression\n",
    "from sklearn.svm import SVC\n",
    "\n",
    "# Grid search and model selection\n",
    "from sklearn.model_selection import GridSearchCV, RandomizedSearchCV\n",
    "from sklearn.model_selection import train_test_split\n",
    "\n",
    "# Model performance metrics\n",
    "from sklearn.model_selection import cross_val_score, cross_val_predict\n",
    "from sklearn.metrics import confusion_matrix, classification_report, accuracy_score, auc,recall_score\n",
    "from sklearn.metrics import roc_curve, roc_auc_score, average_precision_score, precision_recall_curve"
   ]
  },
  {
   "cell_type": "code",
   "execution_count": 63,
   "metadata": {},
   "outputs": [],
   "source": [
    "# run some files containing custom functions\n",
    "%run -i '../scripts/helper_functions.py'"
   ]
  },
  {
   "cell_type": "markdown",
   "metadata": {},
   "source": [
    "## Load Cleaned  Data"
   ]
  },
  {
   "cell_type": "code",
   "execution_count": 3,
   "metadata": {},
   "outputs": [
    {
     "data": {
      "text/html": [
       "<div>\n",
       "<style scoped>\n",
       "    .dataframe tbody tr th:only-of-type {\n",
       "        vertical-align: middle;\n",
       "    }\n",
       "\n",
       "    .dataframe tbody tr th {\n",
       "        vertical-align: top;\n",
       "    }\n",
       "\n",
       "    .dataframe thead th {\n",
       "        text-align: right;\n",
       "    }\n",
       "</style>\n",
       "<table border=\"1\" class=\"dataframe\">\n",
       "  <thead>\n",
       "    <tr style=\"text-align: right;\">\n",
       "      <th></th>\n",
       "      <th>Record</th>\n",
       "      <th>Location</th>\n",
       "      <th>X</th>\n",
       "      <th>Y</th>\n",
       "      <th>Date</th>\n",
       "      <th>Time</th>\n",
       "      <th>Environment</th>\n",
       "      <th>Road_Surface</th>\n",
       "      <th>Traffic_Control</th>\n",
       "      <th>Collision_Location</th>\n",
       "      <th>Light</th>\n",
       "      <th>Collision_Classification</th>\n",
       "      <th>Impact_type</th>\n",
       "      <th>Year</th>\n",
       "      <th>Month</th>\n",
       "      <th>Week_day</th>\n",
       "    </tr>\n",
       "  </thead>\n",
       "  <tbody>\n",
       "    <tr>\n",
       "      <td>0</td>\n",
       "      <td>1</td>\n",
       "      <td>RIDEAU ST @ WALLER ST</td>\n",
       "      <td>368282.69327</td>\n",
       "      <td>5.032275e+06</td>\n",
       "      <td>2014-02-21</td>\n",
       "      <td>06:07:00</td>\n",
       "      <td>02 - Rain</td>\n",
       "      <td>02 - Wet</td>\n",
       "      <td>01 - Traffic signal</td>\n",
       "      <td>03 - At intersection</td>\n",
       "      <td>07 - Dark</td>\n",
       "      <td>01 - Fatal injury</td>\n",
       "      <td>07 - SMV other</td>\n",
       "      <td>2014</td>\n",
       "      <td>February</td>\n",
       "      <td>Friday</td>\n",
       "    </tr>\n",
       "    <tr>\n",
       "      <td>1</td>\n",
       "      <td>2</td>\n",
       "      <td>HINES RD btwn INNOVATION DR &amp; SOLANDT RD</td>\n",
       "      <td>350172.08885</td>\n",
       "      <td>5.022740e+06</td>\n",
       "      <td>2014-08-02</td>\n",
       "      <td>13:55:00</td>\n",
       "      <td>01 - Clear</td>\n",
       "      <td>01 - Dry</td>\n",
       "      <td>10 - No control</td>\n",
       "      <td>04 - At/near private drive</td>\n",
       "      <td>01 - Daylight</td>\n",
       "      <td>01 - Fatal injury</td>\n",
       "      <td>02 - Angle</td>\n",
       "      <td>2014</td>\n",
       "      <td>August</td>\n",
       "      <td>Saturday</td>\n",
       "    </tr>\n",
       "    <tr>\n",
       "      <td>2</td>\n",
       "      <td>4</td>\n",
       "      <td>MONTREAL RD @ BATHGATE DR/BURMA RD</td>\n",
       "      <td>373224.24847</td>\n",
       "      <td>5.034518e+06</td>\n",
       "      <td>2014-07-29</td>\n",
       "      <td>16:31:00</td>\n",
       "      <td>01 - Clear</td>\n",
       "      <td>01 - Dry</td>\n",
       "      <td>01 - Traffic signal</td>\n",
       "      <td>03 - At intersection</td>\n",
       "      <td>01 - Daylight</td>\n",
       "      <td>01 - Fatal injury</td>\n",
       "      <td>05 - Turning movement</td>\n",
       "      <td>2014</td>\n",
       "      <td>July</td>\n",
       "      <td>Tuesday</td>\n",
       "    </tr>\n",
       "    <tr>\n",
       "      <td>3</td>\n",
       "      <td>5</td>\n",
       "      <td>RICHMOND RD btwn FALLOWFIELD RD &amp; RUSHMORE RD</td>\n",
       "      <td>358156.20481</td>\n",
       "      <td>5.012570e+06</td>\n",
       "      <td>2014-08-05</td>\n",
       "      <td>20:05:00</td>\n",
       "      <td>01 - Clear</td>\n",
       "      <td>01 - Dry</td>\n",
       "      <td>10 - No control</td>\n",
       "      <td>01 - Non intersection</td>\n",
       "      <td>05 - Dusk</td>\n",
       "      <td>01 - Fatal injury</td>\n",
       "      <td>07 - SMV other</td>\n",
       "      <td>2014</td>\n",
       "      <td>August</td>\n",
       "      <td>Tuesday</td>\n",
       "    </tr>\n",
       "    <tr>\n",
       "      <td>4</td>\n",
       "      <td>6</td>\n",
       "      <td>PARKDALE AVE btwn RUSKIN ST &amp; INGLEWOOD PL</td>\n",
       "      <td>365558.54334</td>\n",
       "      <td>5.028338e+06</td>\n",
       "      <td>2014-04-19</td>\n",
       "      <td>10:22:00</td>\n",
       "      <td>01 - Clear</td>\n",
       "      <td>01 - Dry</td>\n",
       "      <td>10 - No control</td>\n",
       "      <td>01 - Non intersection</td>\n",
       "      <td>01 - Daylight</td>\n",
       "      <td>01 - Fatal injury</td>\n",
       "      <td>06 - SMV unattended vehicle</td>\n",
       "      <td>2014</td>\n",
       "      <td>April</td>\n",
       "      <td>Saturday</td>\n",
       "    </tr>\n",
       "  </tbody>\n",
       "</table>\n",
       "</div>"
      ],
      "text/plain": [
       "   Record                                       Location             X  \\\n",
       "0       1                          RIDEAU ST @ WALLER ST  368282.69327   \n",
       "1       2       HINES RD btwn INNOVATION DR & SOLANDT RD  350172.08885   \n",
       "2       4             MONTREAL RD @ BATHGATE DR/BURMA RD  373224.24847   \n",
       "3       5  RICHMOND RD btwn FALLOWFIELD RD & RUSHMORE RD  358156.20481   \n",
       "4       6     PARKDALE AVE btwn RUSKIN ST & INGLEWOOD PL  365558.54334   \n",
       "\n",
       "              Y        Date      Time Environment Road_Surface  \\\n",
       "0  5.032275e+06  2014-02-21  06:07:00   02 - Rain     02 - Wet   \n",
       "1  5.022740e+06  2014-08-02  13:55:00  01 - Clear     01 - Dry   \n",
       "2  5.034518e+06  2014-07-29  16:31:00  01 - Clear     01 - Dry   \n",
       "3  5.012570e+06  2014-08-05  20:05:00  01 - Clear     01 - Dry   \n",
       "4  5.028338e+06  2014-04-19  10:22:00  01 - Clear     01 - Dry   \n",
       "\n",
       "       Traffic_Control          Collision_Location          Light  \\\n",
       "0  01 - Traffic signal        03 - At intersection      07 - Dark   \n",
       "1      10 - No control  04 - At/near private drive  01 - Daylight   \n",
       "2  01 - Traffic signal        03 - At intersection  01 - Daylight   \n",
       "3      10 - No control       01 - Non intersection      05 - Dusk   \n",
       "4      10 - No control       01 - Non intersection  01 - Daylight   \n",
       "\n",
       "  Collision_Classification                  Impact_type  Year     Month  \\\n",
       "0        01 - Fatal injury               07 - SMV other  2014  February   \n",
       "1        01 - Fatal injury                   02 - Angle  2014    August   \n",
       "2        01 - Fatal injury        05 - Turning movement  2014      July   \n",
       "3        01 - Fatal injury               07 - SMV other  2014    August   \n",
       "4        01 - Fatal injury  06 - SMV unattended vehicle  2014     April   \n",
       "\n",
       "   Week_day  \n",
       "0    Friday  \n",
       "1  Saturday  \n",
       "2   Tuesday  \n",
       "3   Tuesday  \n",
       "4  Saturday  "
      ]
     },
     "execution_count": 3,
     "metadata": {},
     "output_type": "execute_result"
    }
   ],
   "source": [
    "df = pd.read_csv('../data/cleaned_data_2014_to_2017.csv')\n",
    "df.head()"
   ]
  },
  {
   "cell_type": "code",
   "execution_count": 4,
   "metadata": {},
   "outputs": [
    {
     "data": {
      "text/plain": [
       "(57768, 16)"
      ]
     },
     "execution_count": 4,
     "metadata": {},
     "output_type": "execute_result"
    }
   ],
   "source": [
    "# Data Shape\n",
    "df.shape"
   ]
  },
  {
   "cell_type": "code",
   "execution_count": 5,
   "metadata": {},
   "outputs": [
    {
     "name": "stdout",
     "output_type": "stream",
     "text": [
      "<class 'pandas.core.frame.DataFrame'>\n",
      "RangeIndex: 57768 entries, 0 to 57767\n",
      "Data columns (total 16 columns):\n",
      "Record                      57768 non-null int64\n",
      "Location                    57768 non-null object\n",
      "X                           57768 non-null float64\n",
      "Y                           57768 non-null float64\n",
      "Date                        57768 non-null object\n",
      "Time                        57768 non-null object\n",
      "Environment                 57767 non-null object\n",
      "Road_Surface                57768 non-null object\n",
      "Traffic_Control             57733 non-null object\n",
      "Collision_Location          57762 non-null object\n",
      "Light                       57766 non-null object\n",
      "Collision_Classification    57768 non-null object\n",
      "Impact_type                 57768 non-null object\n",
      "Year                        57768 non-null int64\n",
      "Month                       57768 non-null object\n",
      "Week_day                    57768 non-null object\n",
      "dtypes: float64(2), int64(2), object(12)\n",
      "memory usage: 7.1+ MB\n"
     ]
    }
   ],
   "source": [
    "# Datatypes and missing values\n",
    "df.info()"
   ]
  },
  {
   "cell_type": "markdown",
   "metadata": {},
   "source": [
    "We have 3 numerical and 12 categorical attributes in the dataset. Traffic_Control, Collision_Location, and Light have missing values. We will come back to the missing values later in data preprocessing.\n"
   ]
  },
  {
   "cell_type": "markdown",
   "metadata": {},
   "source": [
    "The Year attribute has only four levels, therefore it would be better to consider it as a categorical attributes"
   ]
  },
  {
   "cell_type": "code",
   "execution_count": 6,
   "metadata": {},
   "outputs": [
    {
     "data": {
      "text/plain": [
       "array([2014, 2015, 2016, 2017])"
      ]
     },
     "execution_count": 6,
     "metadata": {},
     "output_type": "execute_result"
    }
   ],
   "source": [
    "# Check unique values\n",
    "df.Year.unique()"
   ]
  },
  {
   "cell_type": "code",
   "execution_count": 7,
   "metadata": {},
   "outputs": [],
   "source": [
    "# Convert to object\n",
    "df.Year = df.Year.astype('O')"
   ]
  },
  {
   "cell_type": "markdown",
   "metadata": {},
   "source": [
    "We will also drop some attributes that won't be very useful in building predictive model"
   ]
  },
  {
   "cell_type": "code",
   "execution_count": 8,
   "metadata": {},
   "outputs": [],
   "source": [
    "# Drop specified attributes \n",
    "df = df.drop(['Time', 'Date', 'Record','Location'], axis = 1)"
   ]
  },
  {
   "cell_type": "code",
   "execution_count": 9,
   "metadata": {},
   "outputs": [
    {
     "data": {
      "text/plain": [
       "Index(['X', 'Y', 'Environment', 'Road_Surface', 'Traffic_Control',\n",
       "       'Collision_Location', 'Light', 'Collision_Classification',\n",
       "       'Impact_type', 'Year', 'Month', 'Week_day'],\n",
       "      dtype='object')"
      ]
     },
     "execution_count": 9,
     "metadata": {},
     "output_type": "execute_result"
    }
   ],
   "source": [
    "# Attrinute names\n",
    "df.columns"
   ]
  },
  {
   "cell_type": "markdown",
   "metadata": {},
   "source": [
    "## Class Distribution"
   ]
  },
  {
   "cell_type": "code",
   "execution_count": 10,
   "metadata": {},
   "outputs": [
    {
     "data": {
      "text/plain": [
       "03 - P.D. only           46790\n",
       "02 - Non-fatal injury    10885\n",
       "01 - Fatal injury           93\n",
       "Name: Collision_Classification, dtype: int64"
      ]
     },
     "execution_count": 10,
     "metadata": {},
     "output_type": "execute_result"
    }
   ],
   "source": [
    "df.Collision_Classification.value_counts()"
   ]
  },
  {
   "cell_type": "markdown",
   "metadata": {},
   "source": [
    "##  Feature Matrix  and Class Variable"
   ]
  },
  {
   "cell_type": "code",
   "execution_count": 11,
   "metadata": {},
   "outputs": [],
   "source": [
    "X, y = df.drop(['Collision_Classification'], axis = 1), df['Collision_Classification']"
   ]
  },
  {
   "cell_type": "markdown",
   "metadata": {},
   "source": [
    "## Create a Test Set"
   ]
  },
  {
   "cell_type": "code",
   "execution_count": 12,
   "metadata": {},
   "outputs": [],
   "source": [
    "# Create 70% training set and 30% test set using stratify sampling \n",
    "X_train, X_test, y_train, y_test = train_test_split(X, y, test_size = 0.3, random_state= 42, stratify = y)"
   ]
  },
  {
   "cell_type": "code",
   "execution_count": 13,
   "metadata": {},
   "outputs": [
    {
     "name": "stdout",
     "output_type": "stream",
     "text": [
      "Training set class distribution:\n",
      " 03 - P.D. only           80.997601\n",
      "02 - Non-fatal injury    18.841655\n",
      "01 - Fatal injury         0.160744\n",
      "Name: Collision_Classification, dtype: float64\n",
      "**************************************************\n",
      "Test set class distribution:\n",
      " 03 - P.D. only           80.993595\n",
      "02 - Non-fatal injury    18.844844\n",
      "01 - Fatal injury         0.161560\n",
      "Name: Collision_Classification, dtype: float64\n"
     ]
    }
   ],
   "source": [
    "print('Training set class distribution:\\n', (y_train.value_counts()/X_train.shape[0])*100)\n",
    "print(\"**************************************************\")\n",
    "print('Test set class distribution:\\n', (y_test.value_counts()/X_test.shape[0])*100)"
   ]
  },
  {
   "cell_type": "code",
   "execution_count": 14,
   "metadata": {},
   "outputs": [
    {
     "name": "stdout",
     "output_type": "stream",
     "text": [
      "Training set size: (40437, 11) (40437,)\n",
      "Test set size: (17331, 11) (17331,)\n"
     ]
    }
   ],
   "source": [
    "print('Training set size:', X_train.shape, y_train.shape)\n",
    "print('Test set size:', X_test.shape, y_test.shape)"
   ]
  },
  {
   "cell_type": "markdown",
   "metadata": {},
   "source": [
    "## Impute Missing Value"
   ]
  },
  {
   "cell_type": "markdown",
   "metadata": {},
   "source": [
    "As we saw above, there are some attributes with missing values. We will now impute the missing values in those attributes for a better performance"
   ]
  },
  {
   "cell_type": "code",
   "execution_count": 15,
   "metadata": {},
   "outputs": [],
   "source": [
    "# Instantiate the imputer class\n",
    "imputer = DataFrameImputer()\n",
    "\n",
    "# Fit transform the training set\n",
    "X_train_imputed = imputer.fit_transform(X_train)\n",
    "\n",
    "# Only transform the test set\n",
    "X_test_imputed = imputer.fit_transform(X_test)"
   ]
  },
  {
   "cell_type": "markdown",
   "metadata": {},
   "source": [
    "It is good to cross-check whether the missing values have been imputed"
   ]
  },
  {
   "cell_type": "code",
   "execution_count": 16,
   "metadata": {},
   "outputs": [
    {
     "name": "stdout",
     "output_type": "stream",
     "text": [
      "X                     0\n",
      "Y                     0\n",
      "Environment           0\n",
      "Road_Surface          0\n",
      "Traffic_Control       0\n",
      "Collision_Location    0\n",
      "Light                 0\n",
      "Impact_type           0\n",
      "Year                  0\n",
      "Month                 0\n",
      "Week_day              0\n",
      "dtype: int64\n",
      "***************************\n",
      "X                     0\n",
      "Y                     0\n",
      "Environment           0\n",
      "Road_Surface          0\n",
      "Traffic_Control       0\n",
      "Collision_Location    0\n",
      "Light                 0\n",
      "Impact_type           0\n",
      "Year                  0\n",
      "Month                 0\n",
      "Week_day              0\n",
      "dtype: int64\n"
     ]
    }
   ],
   "source": [
    "# Cross-check for missing values\n",
    "print(X_train_imputed.isnull().sum())\n",
    "print('***************************')\n",
    "print(X_test_imputed.isnull().sum())"
   ]
  },
  {
   "cell_type": "markdown",
   "metadata": {},
   "source": [
    "## Standardize the Numerical Features and Convert the Categorical Attributes to Binaries\n",
    "As we saw above, most of the attributes are categorical, and they need to be converted to numeric before applying the machine learning algorithms. We also need to scale the numerical attributes for a better performance"
   ]
  },
  {
   "cell_type": "code",
   "execution_count": 17,
   "metadata": {},
   "outputs": [],
   "source": [
    "# Numerical attributes list\n",
    "num_list = list(X.select_dtypes('number'))\n",
    "\n",
    "# Categorical attributes list\n",
    "cat_list = list(X.select_dtypes('O'))\n",
    "\n",
    "# Standardize the numerical attributes\n",
    "num_attribs = [([num], StandardScaler()) for num in num_list]\n",
    "\n",
    "# Binarize the categorical attributes\n",
    "cat_attribs = [([cat], LabelBinarizer()) for cat in cat_list]\n",
    "\n",
    "# Build a pipeline for the data pre-processing\n",
    "mapper =  DataFrameMapper(num_attribs + cat_attribs, df_out = True) \n",
    "\n",
    "# Fit transform the training set\n",
    "X_train_prepared = mapper.fit_transform(X_train_imputed)\n",
    "\n",
    "# Only transform the test set\n",
    "X_test_prepared = mapper.transform(X_test_imputed)"
   ]
  },
  {
   "cell_type": "code",
   "execution_count": 18,
   "metadata": {},
   "outputs": [
    {
     "name": "stdout",
     "output_type": "stream",
     "text": [
      "Training set size after pre-processing: (40437, 80)\n",
      "Test set size after pre-processing: (17331, 80)\n"
     ]
    }
   ],
   "source": [
    "print('Training set size after pre-processing:', X_train_prepared.shape)\n",
    "print('Test set size after pre-processing:', X_test_prepared.shape)"
   ]
  },
  {
   "cell_type": "markdown",
   "metadata": {},
   "source": [
    "## Dimensionality Reduction"
   ]
  },
  {
   "cell_type": "code",
   "execution_count": 20,
   "metadata": {},
   "outputs": [],
   "source": [
    "# PCA with unscaled training data\n",
    "lda = LDA(n_components = 2)\n",
    "X_train_reduced = lda.fit_transform(X_train_prepared, y_train)"
   ]
  },
  {
   "cell_type": "code",
   "execution_count": 21,
   "metadata": {},
   "outputs": [
    {
     "data": {
      "text/html": [
       "<div>\n",
       "<style scoped>\n",
       "    .dataframe tbody tr th:only-of-type {\n",
       "        vertical-align: middle;\n",
       "    }\n",
       "\n",
       "    .dataframe tbody tr th {\n",
       "        vertical-align: top;\n",
       "    }\n",
       "\n",
       "    .dataframe thead th {\n",
       "        text-align: right;\n",
       "    }\n",
       "</style>\n",
       "<table border=\"1\" class=\"dataframe\">\n",
       "  <thead>\n",
       "    <tr style=\"text-align: right;\">\n",
       "      <th></th>\n",
       "      <th>PC1</th>\n",
       "      <th>PC2</th>\n",
       "      <th>Class</th>\n",
       "    </tr>\n",
       "  </thead>\n",
       "  <tbody>\n",
       "    <tr>\n",
       "      <td>0</td>\n",
       "      <td>0.352846</td>\n",
       "      <td>-0.379435</td>\n",
       "      <td>02 - Non-fatal injury</td>\n",
       "    </tr>\n",
       "    <tr>\n",
       "      <td>1</td>\n",
       "      <td>-0.077106</td>\n",
       "      <td>-0.827116</td>\n",
       "      <td>02 - Non-fatal injury</td>\n",
       "    </tr>\n",
       "    <tr>\n",
       "      <td>2</td>\n",
       "      <td>0.186189</td>\n",
       "      <td>-1.054833</td>\n",
       "      <td>03 - P.D. only</td>\n",
       "    </tr>\n",
       "    <tr>\n",
       "      <td>3</td>\n",
       "      <td>0.395714</td>\n",
       "      <td>0.045435</td>\n",
       "      <td>03 - P.D. only</td>\n",
       "    </tr>\n",
       "    <tr>\n",
       "      <td>4</td>\n",
       "      <td>-0.033999</td>\n",
       "      <td>-0.813559</td>\n",
       "      <td>03 - P.D. only</td>\n",
       "    </tr>\n",
       "  </tbody>\n",
       "</table>\n",
       "</div>"
      ],
      "text/plain": [
       "        PC1       PC2                  Class\n",
       "0  0.352846 -0.379435  02 - Non-fatal injury\n",
       "1 -0.077106 -0.827116  02 - Non-fatal injury\n",
       "2  0.186189 -1.054833         03 - P.D. only\n",
       "3  0.395714  0.045435         03 - P.D. only\n",
       "4 -0.033999 -0.813559         03 - P.D. only"
      ]
     },
     "execution_count": 21,
     "metadata": {},
     "output_type": "execute_result"
    }
   ],
   "source": [
    "# Put in dataframe\n",
    "X_train_reduced = pd.DataFrame(data = X_train_reduced)\n",
    "X_train_reduced.columns = ['PC1', 'PC2']\n",
    "X_train_reduced['Class'] = y_train.reset_index(drop = True)\n",
    "X_train_reduced.head()"
   ]
  },
  {
   "cell_type": "code",
   "execution_count": 22,
   "metadata": {},
   "outputs": [],
   "source": [
    "# Pickle pca dataframe\n",
    "X_train_reduced.to_pickle('../data/pca.pkl') "
   ]
  },
  {
   "cell_type": "code",
   "execution_count": 52,
   "metadata": {},
   "outputs": [
    {
     "data": {
      "image/png": "[encoded data removed]",
      "text/plain": [
       "<Figure size 852.025x432 with 1 Axes>"
      ]
     },
     "metadata": {},
     "output_type": "display_data"
    }
   ],
   "source": [
    "sns.set(font_scale = 1.5)\n",
    "sns.set_style('ticks')\n",
    "\n",
    "# Load file\n",
    "X_train_reduced_pca = pd.read_pickle('../data/pca.pkl') \n",
    "# Plot\n",
    "sns.lmplot(data = X_train_reduced_pca, x = 'PC1', y = 'PC2', hue = 'Class', \n",
    "           fit_reg = False, height= 6, aspect=1.5, palette = ['blue', 'darkgreen', 'red'])\n",
    "plt.title('PCA dimensionality reduction', fontsize = 20)\n",
    "plt.savefig('../image/pca.png')"
   ]
  },
  {
   "cell_type": "markdown",
   "metadata": {},
   "source": [
    "##  Encode the Class Variable"
   ]
  },
  {
   "cell_type": "code",
   "execution_count": 55,
   "metadata": {},
   "outputs": [],
   "source": [
    "# Dictionary mapping\n",
    "map_target = {'01 - Fatal injury': 2, '02 - Non-fatal injury': 1, '03 - P.D. only': 0}\n",
    "\n",
    "# Map to discrete numbers\n",
    "y_train_label = y_train.map(map_target)\n",
    "y_test_label = y_test.map(map_target)"
   ]
  }
 ],
 "metadata": {
  "kernelspec": {
   "display_name": "Python 3",
   "language": "python",
   "name": "python3"
  },
  "language_info": {
   "codemirror_mode": {
    "name": "ipython",
    "version": 3
   },
   "file_extension": ".py",
   "mimetype": "text/x-python",
   "name": "python",
   "nbconvert_exporter": "python",
   "pygments_lexer": "ipython3",
   "version": "3.7.3"
  }
 },
 "nbformat": 4,
 "nbformat_minor": 2
}
